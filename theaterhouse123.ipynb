{
  "nbformat": 4,
  "nbformat_minor": 0,
  "metadata": {
    "colab": {
      "name": "theaterhouse123",
      "provenance": [],
      "collapsed_sections": [],
      "history_visible": true,
      "authorship_tag": "ABX9TyMYH48x/XTleWHWZpgVJo0E",
      "include_colab_link": true
    },
    "kernelspec": {
      "display_name": "Python 3",
      "name": "python3"
    },
    "language_info": {
      "name": "python"
    }
  },
  "cells": [
    {
      "cell_type": "markdown",
      "metadata": {
        "id": "view-in-github",
        "colab_type": "text"
      },
      "source": [
        "<a href=\"https://colab.research.google.com/github/KiyokazuTakeuchi/my-first-repo/blob/master/theaterhouse123.ipynb\" target=\"_parent\"><img src=\"https://colab.research.google.com/assets/colab-badge.svg\" alt=\"Open In Colab\"/></a>"
      ]
    },
    {
      "cell_type": "code",
      "metadata": {
        "colab": {
          "base_uri": "https://localhost:8080/"
        },
        "id": "dYQFStQVWnVb",
        "outputId": "c26f0fc9-f58f-4e7c-963b-d877bb1181a8"
      },
      "source": [
        "from google.colab import drive\n",
        "drive.mount('/content/drive')"
      ],
      "execution_count": 1,
      "outputs": [
        {
          "output_type": "stream",
          "text": [
            "Mounted at /content/drive\n"
          ],
          "name": "stdout"
        }
      ]
    },
    {
      "cell_type": "code",
      "metadata": {
        "id": "lZ3b1YdTXFe8"
      },
      "source": [
        "import pandas as pd\n",
        "import numpy as np\n",
        "from datetime import datetime as dt\n",
        "import matplotlib.pyplot as plt"
      ],
      "execution_count": 2,
      "outputs": []
    },
    {
      "cell_type": "markdown",
      "metadata": {
        "id": "Z6ajUjvrWF6x"
      },
      "source": [
        ""
      ]
    },
    {
      "cell_type": "markdown",
      "metadata": {
        "id": "9ZQHy5M3VlVC"
      },
      "source": [
        "# アクセスログ(transactionRevenue)の読み込み  \n",
        "  \n",
        "\n",
        "```\n",
        "ga:dimension9,ga:dateHourMinute,ga:channelGrouping,ga:sessions,ga:avgSessionDuration,ga:bounceRate,ga:goal3Completions,ga:goal4Completions,\tga:goal5Completions,ga:transactionRevenue\n",
        "```\n",
        "\n"
      ]
    },
    {
      "cell_type": "code",
      "metadata": {
        "id": "QF6q8VI9WoL8"
      },
      "source": [
        "# ga:transactionRevenueを含むファイル(このファイルの情報を元にする)\n",
        "input = '/content/drive/Shareddrives/FPO-未来企画室/ＡＩラボ関連/シアターハウス/アナリティクス分析/ミニ合宿/o_20200801-20210531.csv'\n",
        "# input = '/content/drive/Shareddrives/FPO-未来企画室/ＡＩラボ関連/シアターハウス/アナリティクス分析/ミニ合宿/o_202103-022105.csv'"
      ],
      "execution_count": 3,
      "outputs": []
    },
    {
      "cell_type": "code",
      "metadata": {
        "id": "za1EzZWAXDC0"
      },
      "source": [
        "df = pd.read_csv(input)\n",
        "df.drop('Unnamed: 0', axis = 1, inplace=True)"
      ],
      "execution_count": 4,
      "outputs": []
    },
    {
      "cell_type": "code",
      "metadata": {
        "id": "S46F8-WGHxU_"
      },
      "source": [
        "# sz = df.shape[0] // 2\n",
        "# df_bottom = df[sz:]\n",
        "# df_bottom.to_csv('/content/drive/Shareddrives/FPO-未来企画室/ＡＩラボ関連/シアターハウス/アナリティクス分析/ミニ合宿/o_202103-022105.csv')"
      ],
      "execution_count": 5,
      "outputs": []
    },
    {
      "cell_type": "code",
      "metadata": {
        "id": "6ZUREdg4XQCj"
      },
      "source": [
        "# 主要な項目にデータ型を設定する\n",
        "df['ga:dimension9'] = df['ga:dimension9'].astype(str)\n",
        "df['ga:dateHourMinute'] = df['ga:dateHourMinute'].astype(str)\n",
        "df['datetime'] = pd.to_datetime(df['ga:dateHourMinute'])"
      ],
      "execution_count": 6,
      "outputs": []
    },
    {
      "cell_type": "code",
      "metadata": {
        "id": "wra54xxsr01m"
      },
      "source": [
        "# ga:channelGroupingをOne-hot encoding後、ga:dimension9で集約\n",
        "df = pd.get_dummies(df, columns=['ga:channelGrouping'])\n",
        "df_all = df.groupby(['ga:dimension9'], as_index=False).sum()"
      ],
      "execution_count": 7,
      "outputs": []
    },
    {
      "cell_type": "code",
      "metadata": {
        "id": "qb_klYITsTls"
      },
      "source": [
        "df_all.to_csv('/content/drive/Shareddrives/FPO-未来企画室/ＡＩラボ関連/シアターハウス/アナリティクス分析/ミニ合宿/all_revenue.csv', index=False)"
      ],
      "execution_count": 8,
      "outputs": []
    },
    {
      "cell_type": "markdown",
      "metadata": {
        "id": "4mriNmA1WOX9"
      },
      "source": [
        "# アクセスログ(パス)の読み込み　　\n",
        "\n",
        "\n",
        "```\n",
        "ga:dimension9,ga:dateHourMinute,ga:pagePath,ga:sessions,ga:avgSessionDuration,\n",
        "```\n",
        "\n"
      ]
    },
    {
      "cell_type": "code",
      "metadata": {
        "id": "J5dinqhLWssU"
      },
      "source": [
        "input2 = '/content/drive/Shareddrives/FPO-未来企画室/ＡＩラボ関連/シアターハウス/アナリティクス分析/ミニ合宿/閲覧しているページ比較_20200801-20210531.csv'\n",
        "df2 = pd.read_csv(input2)\n",
        "df2.drop('Unnamed: 0', axis = 1, inplace=True)\n",
        "# 念のため主要な項目にデータ型を設定する\n",
        "df2['ga:dimension9'] = df2['ga:dimension9'].astype(str)\n",
        "df2['ga:dateHourMinute'] = df2['ga:dateHourMinute'].astype(str)\n",
        "df2['datetime'] = pd.to_datetime(df2['ga:dateHourMinute'])\n",
        "\n",
        "# ga:sessions/ga:avgSessionDurationは不要(もう一方のファイルに存在)のため削除する\n",
        "df2.drop('ga:sessions', axis=1, inplace=True)\n",
        "df2.drop('ga:avgSessionDuration', axis=1, inplace=True)"
      ],
      "execution_count": 9,
      "outputs": []
    },
    {
      "cell_type": "code",
      "metadata": {
        "id": "Fv6_BG6tbjjX"
      },
      "source": [
        "# pagePathからオプションデータ(?)を削除\n",
        "import os\n",
        "plist = [os.path.dirname(df2.loc[i, 'ga:pagePath'].split('?')[0]) for i in range(df2.shape[0])]\n",
        "df2['basedir'] = pd.DataFrame(plist)\n",
        "df2.drop('ga:pagePath', axis=1, inplace=True)"
      ],
      "execution_count": 10,
      "outputs": []
    },
    {
      "cell_type": "code",
      "metadata": {
        "id": "tujIVKjCgLJv"
      },
      "source": [
        "# basedirをOne-hot encording後、ga:dimension9で集約\n",
        "df2 = pd.get_dummies(df2, columns=['basedir'])\n",
        "df2_all = df2.groupby(['ga:dimension9'], as_index=False).sum()"
      ],
      "execution_count": 11,
      "outputs": []
    },
    {
      "cell_type": "code",
      "metadata": {
        "id": "VpTx3_MsiSSk"
      },
      "source": [
        "df2_all.to_csv('/content/drive/Shareddrives/FPO-未来企画室/ＡＩラボ関連/シアターハウス/アナリティクス分析/ミニ合宿/pagePath.csv', index=False)"
      ],
      "execution_count": 12,
      "outputs": []
    },
    {
      "cell_type": "markdown",
      "metadata": {
        "id": "jVTt8H9vxbyL"
      },
      "source": [
        "# ファイルをマージ(transactionRevenue+pagePath)  \n"
      ]
    },
    {
      "cell_type": "code",
      "metadata": {
        "id": "k5OUCkqPx1Lu"
      },
      "source": [
        "# df1とdf2をマージする(idが一致しないデータはNaNとなる)\n",
        "df_total = pd.merge(df_all, df2_all, on='ga:dimension9', how='outer')"
      ],
      "execution_count": 13,
      "outputs": []
    },
    {
      "cell_type": "code",
      "metadata": {
        "id": "_NhjFfILyYt8"
      },
      "source": [
        "df_total.to_csv('/content/drive/Shareddrives/FPO-未来企画室/ＡＩラボ関連/シアターハウス/アナリティクス分析/ミニ合宿/df_total.csv', index=False)"
      ],
      "execution_count": 14,
      "outputs": []
    },
    {
      "cell_type": "code",
      "metadata": {
        "id": "A6Jib_HT1XOT"
      },
      "source": [
        "df_total_inner = pd.merge(df_all, df2_all, on='ga:dimension9', how='inner')\n",
        "df_total_inner.to_csv('/content/drive/Shareddrives/FPO-未来企画室/ＡＩラボ関連/シアターハウス/アナリティクス分析/ミニ合宿/df_total_inner.csv', index=False)"
      ],
      "execution_count": 15,
      "outputs": []
    },
    {
      "cell_type": "markdown",
      "metadata": {
        "id": "YINMkyR7r2VY"
      },
      "source": [
        "# 購入者のIDを取得"
      ]
    },
    {
      "cell_type": "code",
      "metadata": {
        "id": "FoqQp402r2Ho"
      },
      "source": [
        "#@title\n",
        "df_rev = df[df['ga:transactionRevenue'] > 0]\n",
        "df_customers = df_rev['ga:dimension9'].unique()"
      ],
      "execution_count": 16,
      "outputs": []
    },
    {
      "cell_type": "code",
      "metadata": {
        "id": "Pn6VhMjDr1_y"
      },
      "source": [
        "from datetime import date,timedelta\n",
        "\n",
        "# 購入日から+1w, +2w, +1M, +2M以内のデータ件数を返す\n",
        "def count_date(row):\n",
        "  refd = row['datetime'] #                                     \n",
        "  dt = df[df['ga:dimension9'] == row['ga:dimension9']]  # TODO: 複数回購入がある場合は不正となる可能性あり\n",
        "  d1w = refd - timedelta(days=7)  # 購入日より1週間前\n",
        "  d2w = refd - timedelta(days=14) #           2週間前\n",
        "  d1m = refd - timedelta(days=30) #　　　　 　1ヵ月前\n",
        "  d2m = refd - timedelta(days=60) #　　　　 　2ヵ月前\n",
        "  return [row['ga:dimension9'], refd, len(dt[(dt['datetime'] >= d1w) & (dt['datetime'] < refd)]), len(dt[(dt['datetime'] >= d2w) & (dt['datetime'] < d1w)]), len(dt[(dt['datetime'] >= d1m) & (dt['datetime'] < d2w)]), len(dt[(dt['datetime'] >= d2m) & (dt['datetime'] < d1m)])]\n",
        "\n",
        "cds = [count_date(row) for index, row in df_rev.iterrows()]\n",
        "\n",
        "df_cds = pd.DataFrame(cds,  columns=['ga:dimension9', 'datetime', '7d', '14d', '1M', '2M'])"
      ],
      "execution_count": 17,
      "outputs": []
    },
    {
      "cell_type": "code",
      "metadata": {
        "id": "FDjUJz7hr12Q"
      },
      "source": [
        "df_rev_cds = pd.merge(df_cds, df_rev, on=['ga:dimension9', 'datetime'])"
      ],
      "execution_count": 18,
      "outputs": []
    },
    {
      "cell_type": "code",
      "metadata": {
        "id": "8TS2iHO03ABy"
      },
      "source": [
        "df_rev_cds.to_csv('/content/drive/Shareddrives/FPO-未来企画室/ＡＩラボ関連/シアターハウス/アナリティクス分析/ミニ合宿/df_rev_cds.csv', index=False)"
      ],
      "execution_count": 19,
      "outputs": []
    },
    {
      "cell_type": "code",
      "metadata": {
        "id": "qg2R0J3ar1k9"
      },
      "source": [
        "df_no_rev = df[df['ga:transactionRevenue'] == 0]"
      ],
      "execution_count": 20,
      "outputs": []
    },
    {
      "cell_type": "code",
      "metadata": {
        "id": "aw4QAHtBu7yw"
      },
      "source": [
        "# 未購入データから購入者のデータを削除\n",
        "for cs in df_customers:\n",
        "  drop_index = df_no_rev.index[df_no_rev['ga:dimension9'] == cs] \n",
        "  df_no_rev = df_no_rev.drop(drop_index) "
      ],
      "execution_count": 21,
      "outputs": []
    },
    {
      "cell_type": "code",
      "metadata": {
        "id": "n4Vagx5e_2tP"
      },
      "source": [
        "# 未購入者データ(df_no_rev)からIDを抽出(重複なし)\n",
        "df_non_customers = df_no_rev['ga:dimension9'].unique()"
      ],
      "execution_count": 22,
      "outputs": []
    },
    {
      "cell_type": "code",
      "metadata": {
        "id": "Ml3alsELb_3v"
      },
      "source": [
        "import datetime\n",
        "# 購入日から+1w, +2w, +1M, +2M以内のデータ件数を返す\n",
        "def count_date_norev(id, baseday):\n",
        "  # refd = row['datetime'] #                                     \n",
        "  dt = df_no_rev[df_no_rev['ga:dimension9'] == id]\n",
        "  d1w = baseday - timedelta(days=7)  # 購入日より1週間前\n",
        "  d2w = baseday - timedelta(days=14) #           2週間前\n",
        "  d1m = baseday - timedelta(days=30) #　　　　 　1ヵ月前\n",
        "  d2m = baseday - timedelta(days=60) #　　　　 　2ヵ月前\n",
        "  return [id, len(dt[(dt['datetime'] >= d1w) & (dt['datetime'] < baseday)]), len(dt[(dt['datetime'] >= d2w) & (dt['datetime'] < d1w)]), len(dt[(dt['datetime'] >= d1m) & (dt['datetime'] < d2w)]), len(dt[(dt['datetime'] >= d2m) & (dt['datetime'] < d1m)])]\n",
        "\n",
        "rd = datetime.datetime( 2021 , 5 , 31, 0 , 0 , 0 , 0)  # 2021/05/31 0:0:0:0\n",
        "# 任意に1000間隔でIDを指定\n",
        "cds_no_rev = [count_date_norev(id, rd) for id in np.nditer(df_non_customers[::1000], flags=['refs_ok'])]\n",
        "# cds_no_rev = [count_date_norev(id, rd) for id in np.nditer(df_non_customers, flags=['refs_ok'])]\n",
        "\n",
        "df_cds_no_rev = pd.DataFrame(cds_no_rev,  columns=['ga:dimension9', '7d', '14d', '1M', '2M'])"
      ],
      "execution_count": 23,
      "outputs": []
    },
    {
      "cell_type": "code",
      "metadata": {
        "id": "d9yqt37j38e9"
      },
      "source": [
        "df_cds_no_rev.to_csv('/content/drive/Shareddrives/FPO-未来企画室/ＡＩラボ関連/シアターハウス/アナリティクス分析/ミニ合宿/df_cds_no_rev.csv', index=False)"
      ],
      "execution_count": 24,
      "outputs": []
    },
    {
      "cell_type": "code",
      "metadata": {
        "id": "PkxmQeWzdf-l"
      },
      "source": [
        "df_cds_no_rev['ga:dimension9'] = df_cds_no_rev['ga:dimension9'].astype(str) #\n",
        "df_no_rev_cds = pd.merge(df_cds_no_rev, df_no_rev, on=['ga:dimension9'], how='inner')"
      ],
      "execution_count": 25,
      "outputs": []
    },
    {
      "cell_type": "code",
      "metadata": {
        "id": "wrEYuNX1dwVL"
      },
      "source": [
        "df_rev_no_rev = pd.concat([df_rev_cds, df_no_rev_cds], axis=0)"
      ],
      "execution_count": 26,
      "outputs": []
    },
    {
      "cell_type": "code",
      "metadata": {
        "id": "2DlCb0bQkQbi"
      },
      "source": [
        "df_rev_no_rev.to_csv('/content/drive/Shareddrives/FPO-未来企画室/ＡＩラボ関連/シアターハウス/アナリティクス分析/ミニ合宿/df_rev_no_rev.csv', index=False)"
      ],
      "execution_count": 27,
      "outputs": []
    },
    {
      "cell_type": "markdown",
      "metadata": {
        "id": "IAgfe0IW414O"
      },
      "source": [
        "# ここまで"
      ]
    },
    {
      "cell_type": "code",
      "metadata": {
        "id": "p2iHV2VFgvhW"
      },
      "source": [
        "# ga:channelGroupingをOne-hot encodingする\n",
        "df_one = pd.get_dummies(df, columns=['ga:channelGrouping'])"
      ],
      "execution_count": null,
      "outputs": []
    },
    {
      "cell_type": "code",
      "metadata": {
        "id": "Se7uwTQ2hmbv"
      },
      "source": [
        "# ユーザID(ga:dimension9)単位に各項目を合計\n",
        "df_total = df_one.groupby(['ga:dimension9'], as_index=False).sum()"
      ],
      "execution_count": null,
      "outputs": []
    },
    {
      "cell_type": "code",
      "metadata": {
        "id": "NLlNcXANksZp"
      },
      "source": [
        "# ga:pagePathを含むファイル\n",
        "input2 = f'/content/drive/Shareddrives/FPO-未来企画室/ＡＩラボ関連/シアターハウス/アナリティクス分析/ミニ合宿/閲覧しているページ比較_20200801-20210531.csv'"
      ],
      "execution_count": null,
      "outputs": []
    },
    {
      "cell_type": "code",
      "metadata": {
        "id": "gXaptN8ck9rm"
      },
      "source": [
        "df2 = pd.read_csv(input2)\n",
        "df2.drop('Unnamed: 0', axis = 1, inplace=True)"
      ],
      "execution_count": null,
      "outputs": []
    },
    {
      "cell_type": "code",
      "metadata": {
        "id": "b5YX-DhdlHiq"
      },
      "source": [
        "# 念のため主要な項目にデータ型を指定する\n",
        "df2['ga:dimension9'] = df2['ga:dimension9'].astype(str)\n",
        "df2['ga:dateHourMinute'] = df2['ga:dateHourMinute'].astype(str)\n",
        "df2['datetime'] = pd.to_datetime(df2['ga:dateHourMinute'])"
      ],
      "execution_count": null,
      "outputs": []
    },
    {
      "cell_type": "code",
      "metadata": {
        "id": "doDY6jlQl5hj"
      },
      "source": [
        "# ga:session2, ga:avgSessionDurationを削除(他方のファイルに同じデータが含まれているはず)\n",
        "df2.drop('ga:sessions', axis=1, inplace=True)\n",
        "df2.drop('ga:avgSessionDuration', axis=1, inplace=True)"
      ],
      "execution_count": null,
      "outputs": []
    },
    {
      "cell_type": "code",
      "metadata": {
        "id": "Gf1yam3LuMRx"
      },
      "source": [
        "# ga:pagePathを編集(親ディレクトリのみに変換)\n",
        "import os\n",
        "plist = [os.path.dirname(df2.loc[i, 'ga:pagePath']) for i in range(df2.shape[0])]\n",
        "df2['basedir'] = pd.DataFrame(plist)"
      ],
      "execution_count": null,
      "outputs": []
    },
    {
      "cell_type": "code",
      "metadata": {
        "id": "_3hNAkPTvgce"
      },
      "source": [
        "# ga:pagePath削除\n",
        "df2.drop('ga:pagePath', axis=1, inplace=True)"
      ],
      "execution_count": null,
      "outputs": []
    },
    {
      "cell_type": "code",
      "metadata": {
        "id": "gU_rpMUBvyRb"
      },
      "source": [
        "# 'basedir'をOne-hot encodingする\n",
        "df2_one = pd.get_dummies(df2, columns=['basedir'])"
      ],
      "execution_count": null,
      "outputs": []
    },
    {
      "cell_type": "code",
      "metadata": {
        "id": "93B6Ew8qwabE"
      },
      "source": [
        "# ユーザID(ga:dimension9)単位に各項目を合計\n",
        "df2_total = df2_one.groupby(['ga:dimension9'], as_index=False).sum()"
      ],
      "execution_count": null,
      "outputs": []
    },
    {
      "cell_type": "code",
      "metadata": {
        "id": "CDNDikX9wzw9"
      },
      "source": [
        "# df1とdf2をマージする(idが一致しないデータはNaNとなる)\n",
        "df_total = pd.merge(df_total, df2_total, on='ga:dimension9', how='inner')"
      ],
      "execution_count": null,
      "outputs": []
    },
    {
      "cell_type": "code",
      "metadata": {
        "id": "Ln3uKVBSydAc"
      },
      "source": [
        "df_total.to_csv(f'/content/drive/Shareddrives/FPO-未来企画室/ＡＩラボ関連/シアターハウス/アナリティクス分析/ミニ合宿/df_total.csv', index=False)"
      ],
      "execution_count": null,
      "outputs": []
    },
    {
      "cell_type": "markdown",
      "metadata": {
        "id": "gThUAQrvkUB3"
      },
      "source": [
        ""
      ]
    },
    {
      "cell_type": "code",
      "metadata": {
        "id": "WrG5qwIlAVIt"
      },
      "source": [
        "df_sort = df.sort_values(['ga:dimension9', 'datetime'],ascending=[True, True])"
      ],
      "execution_count": null,
      "outputs": []
    },
    {
      "cell_type": "code",
      "metadata": {
        "id": "nS4R5O_v_VH4"
      },
      "source": [
        "df2_sort = df2.sort_values(['ga:dimension9', 'datetime'],ascending=[True, True])"
      ],
      "execution_count": null,
      "outputs": []
    },
    {
      "cell_type": "code",
      "metadata": {
        "id": "xkJwzz2IAcJY"
      },
      "source": [
        "import seaborn as sns\n",
        "# 相関行列\n",
        "cols = df_total.columns\n",
        "cor = df_total[cols].corr()\n",
        "plt.figure(figsize=(320, 320))\n",
        "sns.heatmap(cor, cmap= sns.color_palette('cool', 10), annot=True,fmt='.2f', vmin = -1, vmax = 1)"
      ],
      "execution_count": null,
      "outputs": []
    },
    {
      "cell_type": "code",
      "metadata": {
        "id": "4HhOaf1BCPVV"
      },
      "source": [
        ""
      ],
      "execution_count": null,
      "outputs": []
    }
  ]
}